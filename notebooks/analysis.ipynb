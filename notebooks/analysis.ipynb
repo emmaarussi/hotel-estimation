{
 "cells": [
  {
   "cell_type": "code",
   "execution_count": 11,
   "id": "e1601121",
   "metadata": {},
   "outputs": [],
   "source": [
    "import pandas as pd\n",
    "import numpy as np\n",
    "import xgboost as xgb\n",
    "\n",
    "# Load data\n",
    "df_train = pd.read_csv('/Users/moisempongo/Documents/uni-projects/hotel-estimation/data/raw/subset_train_set_VU_DM.csv')\n",
    "df_test = pd.read_csv('/Users/moisempongo/Documents/uni-projects/hotel-estimation/data/raw/subset_test_set_VU_DM.csv')"
   ]
  },
  {
   "cell_type": "code",
   "execution_count": null,
   "id": "63a96435",
   "metadata": {},
   "outputs": [
    {
     "name": "stderr",
     "output_type": "stream",
     "text": [
      "/opt/anaconda3/lib/python3.12/site-packages/sklearn/utils/_array_api.py:701: RuntimeWarning: All-NaN slice encountered\n",
      "  return xp.asarray(numpy.nanmin(X, axis=axis))\n",
      "/opt/anaconda3/lib/python3.12/site-packages/sklearn/utils/_array_api.py:718: RuntimeWarning: All-NaN slice encountered\n",
      "  return xp.asarray(numpy.nanmax(X, axis=axis))\n"
     ]
    },
    {
     "name": "stdout",
     "output_type": "stream",
     "text": [
      "[0]\ttrain-ndcg@5:1.00000\tval-ndcg@5:1.00000\n",
      "[1]\ttrain-ndcg@5:1.00000\tval-ndcg@5:1.00000\n",
      "[2]\ttrain-ndcg@5:1.00000\tval-ndcg@5:1.00000\n",
      "[3]\ttrain-ndcg@5:1.00000\tval-ndcg@5:1.00000\n",
      "[4]\ttrain-ndcg@5:1.00000\tval-ndcg@5:1.00000\n",
      "[5]\ttrain-ndcg@5:1.00000\tval-ndcg@5:1.00000\n",
      "[6]\ttrain-ndcg@5:1.00000\tval-ndcg@5:1.00000\n",
      "[7]\ttrain-ndcg@5:1.00000\tval-ndcg@5:1.00000\n",
      "[8]\ttrain-ndcg@5:1.00000\tval-ndcg@5:1.00000\n",
      "[9]\ttrain-ndcg@5:1.00000\tval-ndcg@5:1.00000\n",
      "[10]\ttrain-ndcg@5:1.00000\tval-ndcg@5:1.00000\n"
     ]
    },
    {
     "ename": "NameError",
     "evalue": "name 'ndcg_at_k' is not defined",
     "output_type": "error",
     "traceback": [
      "\u001b[0;31m---------------------------------------------------------------------------\u001b[0m",
      "\u001b[0;31mNameError\u001b[0m                                 Traceback (most recent call last)",
      "Cell \u001b[0;32mIn[14], line 123\u001b[0m\n\u001b[1;32m    120\u001b[0m test_srch_ids \u001b[38;5;241m=\u001b[39m df_test[\u001b[38;5;124m'\u001b[39m\u001b[38;5;124msrch_id\u001b[39m\u001b[38;5;124m'\u001b[39m]\u001b[38;5;241m.\u001b[39mvalues\n\u001b[1;32m    122\u001b[0m \u001b[38;5;66;03m# Calculate NDCG@5\u001b[39;00m\n\u001b[0;32m--> 123\u001b[0m ndcg_score \u001b[38;5;241m=\u001b[39m ndcg_at_k(y_test\u001b[38;5;241m.\u001b[39mvalues, y_pred, k\u001b[38;5;241m=\u001b[39m\u001b[38;5;241m5\u001b[39m, group_labels\u001b[38;5;241m=\u001b[39mtest_srch_ids)\n\u001b[1;32m    124\u001b[0m \u001b[38;5;28mprint\u001b[39m(\u001b[38;5;124mf\u001b[39m\u001b[38;5;124m\"\u001b[39m\u001b[38;5;124mNDCG@5 on test data: \u001b[39m\u001b[38;5;132;01m{\u001b[39;00mndcg_score\u001b[38;5;132;01m}\u001b[39;00m\u001b[38;5;124m\"\u001b[39m)\n\u001b[1;32m    126\u001b[0m \u001b[38;5;66;03m# 6. Submission File Creation\u001b[39;00m\n\u001b[1;32m    127\u001b[0m \n\u001b[1;32m    128\u001b[0m \u001b[38;5;66;03m# Create submission dataframe\u001b[39;00m\n",
      "\u001b[0;31mNameError\u001b[0m: name 'ndcg_at_k' is not defined"
     ]
    }
   ],
   "source": [
    "import pandas as pd\n",
    "import numpy as np\n",
    "from sklearn.model_selection import train_test_split, GroupKFold\n",
    "from sklearn.preprocessing import MinMaxScaler\n",
    "import xgboost as xgb\n",
    "from sklearn.metrics import ndcg_score\n",
    "\n",
    "\n",
    "\n",
    "\n",
    "# 1. Data Loading and Preprocessing\n",
    "# Column alignment\n",
    "train_cols = set(df_train.columns)\n",
    "test_cols = set(df_test.columns)\n",
    "\n",
    "# Add missing columns to test data\n",
    "for col in train_cols - test_cols:\n",
    "    if df_train[col].dtype == 'object':\n",
    "        df_test[col] = ''\n",
    "    else:\n",
    "        df_test[col] = 0  # Fill with 0 for numerical columns\n",
    "        \n",
    "# Data type alignment\n",
    "for col in train_cols.intersection(test_cols):\n",
    "    if df_train[col].dtype != df_test[col].dtype:\n",
    "        try:\n",
    "            df_test[col] = df_test[col].astype(df_train[col].dtype)\n",
    "        except ValueError:\n",
    "            print(f\"Warning: Could not convert column '{col}' to {df_train[col].dtype}\")\n",
    "            # Handle the error appropriately\n",
    "\n",
    "# Select the subset of columns in train data\n",
    "df_test = df_test[list(train_cols)] # Reorder columns\n",
    "\n",
    "\n",
    "# 2. Feature Engineering\n",
    "\n",
    "# Define a function for feature engineering \n",
    "def engineer_features(df):\n",
    "    # User-centric features\n",
    "    df['user_total_clicks'] = df.groupby('srch_id')['click_bool'].transform('sum')\n",
    "    df['user_total_bookings'] = df.groupby('srch_id')['booking_bool'].transform('sum')\n",
    "    df['user_avg_booking_price'] = df.groupby('srch_id')['price_usd'].transform(\n",
    "        lambda x: np.mean(x[df['booking_bool'] == 1])\n",
    "    )\n",
    "    df['date_time'] = pd.to_datetime(df['date_time'])\n",
    "    df['day_of_week'] = df['date_time'].dt.dayofweek\n",
    "    df['month'] = df['date_time'].dt.month\n",
    "    df['is_weekend'] = (df['day_of_week'] >= 5).astype(int)\n",
    "\n",
    "    # Hotel-centric features\n",
    "    competitor_cols = [col for col in df.columns if 'comp' in col and 'rate_percent_diff' in col]\n",
    "    df['composite_hotel_score'] = df['prop_starrating'] + df['prop_review_score']\n",
    "    for col in competitor_cols:\n",
    "        df[col] = df[col].fillna(df[col].median())\n",
    "        df[col] = (df[col] - df[col].min()) / (df[col].max() - df[col].min())\n",
    "\n",
    "    # Interaction features\n",
    "    df['price_diff_avg_booking'] = df['price_usd'] - df['user_avg_booking_price']\n",
    "\n",
    "    # Target variable creation (for training data)\n",
    "    if 'booking_bool' in df.columns:\n",
    "        df['target'] = 0\n",
    "        df.loc[df['booking_bool'] == 1, 'target'] = 5\n",
    "        df.loc[df['click_bool'] == 1, 'target'] = 1\n",
    "\n",
    "    # Feature Scaling\n",
    "    numerical_features_to_scale = [\n",
    "        'user_total_clicks', 'user_total_bookings', 'user_avg_booking_price',\n",
    "        'price_diff_avg_booking', 'price_usd', 'prop_location_score1',\n",
    "        'prop_location_score2', 'prop_log_historical_price'\n",
    "    ] + competitor_cols\n",
    "    scaler = MinMaxScaler()\n",
    "    df[numerical_features_to_scale] = scaler.fit_transform(df[numerical_features_to_scale])\n",
    "\n",
    "    return df\n",
    "\n",
    "# Apply feature engineering to both training and test data\n",
    "df_train = engineer_features(df_train)\n",
    "df_test = engineer_features(df_test)\n",
    "\n",
    "# 3. Data Splitting (for training data)\n",
    "\n",
    "features = [\n",
    "    col for col in df_train.columns if col not in ['target', 'srch_id', 'prop_id', 'booking_bool', 'click_bool', 'date_time']\n",
    "]\n",
    "X = df_train[features]\n",
    "y = df_train['target']\n",
    "groups = df_train['srch_id']\n",
    "\n",
    "X_train, X_val, y_train, y_val = train_test_split(X, y, test_size=0.2, random_state=42, stratify=groups)\n",
    "\n",
    "# 4. Model Training using XGBoost\n",
    "\n",
    "# Define parameters for XGBoost\n",
    "params = {\n",
    "    'objective': 'rank:pairwise',\n",
    "    'eval_metric': 'ndcg@5',\n",
    "    'eta': 0.1,\n",
    "    'max_depth': 6,\n",
    "    'subsample': 0.8,\n",
    "    'colsample_bytree': 0.8,\n",
    "}\n",
    "\n",
    "# Create DMatrix for training and validation\n",
    "dtrain = xgb.DMatrix(X_train, label=y_train)\n",
    "dval = xgb.DMatrix(X_val, label=y_val)\n",
    "\n",
    "# Train the XGBoost model\n",
    "model = xgb.train(params, dtrain, num_boost_round=100, evals=[(dtrain, 'train'), (dval, 'val')], early_stopping_rounds=10)\n",
    "\n",
    "# 5. Model Evaluation and Prediction\n",
    "\n",
    "# Prepare test data for prediction\n",
    "X_test = df_test[features]\n",
    "dtest = xgb.DMatrix(X_test)\n",
    "\n",
    "# Make predictions on test data\n",
    "y_pred = model.predict(dtest)\n",
    "\n",
    "# Get search IDs for grouping\n",
    "test_srch_ids = df_test['srch_id'].values\n",
    "\n",
    "# Calculate NDCG@5\n",
    "ndcg_score = ndcg_at_k(y_test.values, y_pred, k=5, group_labels=test_srch_ids)\n",
    "print(f\"NDCG@5 on test data: {ndcg_score}\")\n",
    "\n",
    "# 6. Submission File Creation\n",
    "\n",
    "# Create submission dataframe\n",
    "submission_df = pd.DataFrame({'SearchId': df_test['srch_id'], 'PropertyId': df_test['prop_id'], 'Score': y_pred})\n",
    "\n",
    "# Sort by SearchId and Score\n",
    "submission_df = submission_df.sort_values(['SearchId', 'Score'], ascending=[True, False])\n",
    "\n",
    "# Save submission file\n",
    "submission_df[['SearchId', 'PropertyId']].to_csv('submission.csv', index=False)"
   ]
  },
  {
   "cell_type": "code",
   "execution_count": null,
   "id": "271b44d2",
   "metadata": {},
   "outputs": [
    {
     "data": {
      "application/vnd.microsoft.datawrangler.viewer.v0+json": {
       "columns": [
        {
         "name": "index",
         "rawType": "int64",
         "type": "integer"
        },
        {
         "name": "SearchId",
         "rawType": "int64",
         "type": "integer"
        },
        {
         "name": "PropertyId",
         "rawType": "int64",
         "type": "integer"
        }
       ],
       "conversionMethod": "pd.DataFrame",
       "ref": "5346a679-55a1-4a35-89a0-7028417c94de",
       "rows": [
        [
         "15",
         "150",
         "74211"
        ],
        [
         "30",
         "150",
         "128711"
        ],
        [
         "5",
         "150",
         "39493"
        ],
        [
         "8",
         "150",
         "53072"
        ],
        [
         "14",
         "150",
         "73865"
        ],
        [
         "19",
         "150",
         "89326"
        ],
        [
         "31",
         "150",
         "139010"
        ],
        [
         "32",
         "150",
         "139306"
        ],
        [
         "20",
         "150",
         "92410"
        ],
        [
         "22",
         "150",
         "98352"
        ],
        [
         "18",
         "150",
         "87074"
        ],
        [
         "1",
         "150",
         "7350"
        ],
        [
         "16",
         "150",
         "75373"
        ],
        [
         "27",
         "150",
         "118781"
        ],
        [
         "3",
         "150",
         "32655"
        ],
        [
         "17",
         "150",
         "80491"
        ],
        [
         "10",
         "150",
         "58041"
        ],
        [
         "29",
         "150",
         "128036"
        ],
        [
         "12",
         "150",
         "61877"
        ],
        [
         "0",
         "150",
         "6850"
        ],
        [
         "4",
         "150",
         "35202"
        ],
        [
         "11",
         "150",
         "59503"
        ],
        [
         "23",
         "150",
         "103284"
        ],
        [
         "25",
         "150",
         "117501"
        ],
        [
         "21",
         "150",
         "92809"
        ],
        [
         "6",
         "150",
         "43159"
        ],
        [
         "28",
         "150",
         "123322"
        ],
        [
         "13",
         "150",
         "69065"
        ],
        [
         "2",
         "150",
         "7812"
        ],
        [
         "26",
         "150",
         "118098"
        ],
        [
         "9",
         "150",
         "57854"
        ],
        [
         "24",
         "150",
         "104216"
        ],
        [
         "7",
         "150",
         "52282"
        ],
        [
         "47",
         "195",
         "71559"
        ],
        [
         "60",
         "195",
         "121601"
        ],
        [
         "33",
         "195",
         "4759"
        ],
        [
         "48",
         "195",
         "72467"
        ],
        [
         "52",
         "195",
         "92711"
        ],
        [
         "35",
         "195",
         "14034"
        ],
        [
         "42",
         "195",
         "60401"
        ],
        [
         "57",
         "195",
         "105899"
        ],
        [
         "38",
         "195",
         "37171"
        ],
        [
         "45",
         "195",
         "64955"
        ],
        [
         "36",
         "195",
         "20787"
        ],
        [
         "50",
         "195",
         "91855"
        ],
        [
         "49",
         "195",
         "87946"
        ],
        [
         "56",
         "195",
         "99785"
        ],
        [
         "59",
         "195",
         "120743"
        ],
        [
         "39",
         "195",
         "43791"
        ],
        [
         "51",
         "195",
         "92254"
        ]
       ],
       "shape": {
        "columns": 2,
        "rows": 99106
       }
      },
      "text/html": [
       "<div>\n",
       "<style scoped>\n",
       "    .dataframe tbody tr th:only-of-type {\n",
       "        vertical-align: middle;\n",
       "    }\n",
       "\n",
       "    .dataframe tbody tr th {\n",
       "        vertical-align: top;\n",
       "    }\n",
       "\n",
       "    .dataframe thead th {\n",
       "        text-align: right;\n",
       "    }\n",
       "</style>\n",
       "<table border=\"1\" class=\"dataframe\">\n",
       "  <thead>\n",
       "    <tr style=\"text-align: right;\">\n",
       "      <th></th>\n",
       "      <th>SearchId</th>\n",
       "      <th>PropertyId</th>\n",
       "    </tr>\n",
       "  </thead>\n",
       "  <tbody>\n",
       "    <tr>\n",
       "      <th>15</th>\n",
       "      <td>150</td>\n",
       "      <td>74211</td>\n",
       "    </tr>\n",
       "    <tr>\n",
       "      <th>30</th>\n",
       "      <td>150</td>\n",
       "      <td>128711</td>\n",
       "    </tr>\n",
       "    <tr>\n",
       "      <th>5</th>\n",
       "      <td>150</td>\n",
       "      <td>39493</td>\n",
       "    </tr>\n",
       "    <tr>\n",
       "      <th>8</th>\n",
       "      <td>150</td>\n",
       "      <td>53072</td>\n",
       "    </tr>\n",
       "    <tr>\n",
       "      <th>14</th>\n",
       "      <td>150</td>\n",
       "      <td>73865</td>\n",
       "    </tr>\n",
       "    <tr>\n",
       "      <th>...</th>\n",
       "      <td>...</td>\n",
       "      <td>...</td>\n",
       "    </tr>\n",
       "    <tr>\n",
       "      <th>99105</th>\n",
       "      <td>332757</td>\n",
       "      <td>116758</td>\n",
       "    </tr>\n",
       "    <tr>\n",
       "      <th>99100</th>\n",
       "      <td>332757</td>\n",
       "      <td>83037</td>\n",
       "    </tr>\n",
       "    <tr>\n",
       "      <th>99095</th>\n",
       "      <td>332757</td>\n",
       "      <td>21727</td>\n",
       "    </tr>\n",
       "    <tr>\n",
       "      <th>99099</th>\n",
       "      <td>332757</td>\n",
       "      <td>82013</td>\n",
       "    </tr>\n",
       "    <tr>\n",
       "      <th>99102</th>\n",
       "      <td>332757</td>\n",
       "      <td>90435</td>\n",
       "    </tr>\n",
       "  </tbody>\n",
       "</table>\n",
       "<p>99106 rows × 2 columns</p>\n",
       "</div>"
      ],
      "text/plain": [
       "       SearchId  PropertyId\n",
       "15          150       74211\n",
       "30          150      128711\n",
       "5           150       39493\n",
       "8           150       53072\n",
       "14          150       73865\n",
       "...         ...         ...\n",
       "99105    332757      116758\n",
       "99100    332757       83037\n",
       "99095    332757       21727\n",
       "99099    332757       82013\n",
       "99102    332757       90435\n",
       "\n",
       "[99106 rows x 2 columns]"
      ]
     },
     "execution_count": 10,
     "metadata": {},
     "output_type": "execute_result"
    }
   ],
   "source": [
    "sub"
   ]
  }
 ],
 "metadata": {
  "kernelspec": {
   "display_name": "base",
   "language": "python",
   "name": "python3"
  },
  "language_info": {
   "codemirror_mode": {
    "name": "ipython",
    "version": 3
   },
   "file_extension": ".py",
   "mimetype": "text/x-python",
   "name": "python",
   "nbconvert_exporter": "python",
   "pygments_lexer": "ipython3",
   "version": "3.12.7"
  }
 },
 "nbformat": 4,
 "nbformat_minor": 5
}
